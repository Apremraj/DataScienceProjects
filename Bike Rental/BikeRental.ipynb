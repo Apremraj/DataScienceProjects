{
 "cells": [
  {
   "cell_type": "markdown",
   "metadata": {},
   "source": [
    "# Predicting Bike Rentals"
   ]
  },
  {
   "cell_type": "markdown",
   "metadata": {},
   "source": [
    "Objctive : To predict bike rental count on a daily basis based on environmental and seasonal settings. "
   ]
  },
  {
   "cell_type": "raw",
   "metadata": {},
   "source": [
    "Procedure:\n",
    "    Step 1: Load all libraries\n",
    "    Step 2: Load Data\n",
    "    Step 3: Feature Engineering\n",
    "    Step 4: Exploratory Data Analysis\n",
    "        a. Ditribution of data on Dependent variable\n",
    "        b. Categorical independent variables\n",
    "        c. Continuous independent variables\n",
    "    Step 5: Missing Value Analysis\n",
    "    Step 6: Outlier Analysis\n",
    "    Step 7: Feature Selection\n",
    "    Step 8: Model Development\n",
    "        a. Data Splitting\n",
    "        b. Linear Regression\n",
    "        c. Decision Tree\n",
    "        d. Prediction and Evaluation using MAPE score\n",
    "    Step 9: Conclusion"
   ]
  },
  {
   "cell_type": "markdown",
   "metadata": {},
   "source": [
    "## Loading libraries and Data"
   ]
  },
  {
   "cell_type": "code",
   "execution_count": 188,
   "metadata": {},
   "outputs": [],
   "source": [
    "#Load libraries\n",
    "import os\n",
    "import pandas as pd\n",
    "import numpy as np\n",
    "import matplotlib.pyplot as plt\n",
    "import seaborn as sns\n",
    "from scipy.stats import chi2_contingency\n",
    "from sklearn.cross_validation import train_test_split\n",
    "from sklearn.tree import DecisionTreeRegressor\n",
    "from sklearn.ensemble import RandomForestClassifier"
   ]
  },
  {
   "cell_type": "code",
   "execution_count": 7,
   "metadata": {},
   "outputs": [],
   "source": [
    "#Set working directory and Load Data\n",
    "os.chdir(r\"C:\\Users\\Ashish\\Documents\\Edwisor\\Projects\\Bike Rental\")"
   ]
  },
  {
   "cell_type": "code",
   "execution_count": 8,
   "metadata": {},
   "outputs": [],
   "source": [
    "#Load Data\n",
    "data_df = pd.read_csv(\"day.csv\")"
   ]
  },
  {
   "cell_type": "code",
   "execution_count": 14,
   "metadata": {
    "collapsed": true
   },
   "outputs": [
    {
     "data": {
      "text/html": [
       "<div>\n",
       "<style scoped>\n",
       "    .dataframe tbody tr th:only-of-type {\n",
       "        vertical-align: middle;\n",
       "    }\n",
       "\n",
       "    .dataframe tbody tr th {\n",
       "        vertical-align: top;\n",
       "    }\n",
       "\n",
       "    .dataframe thead th {\n",
       "        text-align: right;\n",
       "    }\n",
       "</style>\n",
       "<table border=\"1\" class=\"dataframe\">\n",
       "  <thead>\n",
       "    <tr style=\"text-align: right;\">\n",
       "      <th></th>\n",
       "      <th>instant</th>\n",
       "      <th>season</th>\n",
       "      <th>yr</th>\n",
       "      <th>mnth</th>\n",
       "      <th>holiday</th>\n",
       "      <th>weekday</th>\n",
       "      <th>workingday</th>\n",
       "      <th>weathersit</th>\n",
       "      <th>temp</th>\n",
       "      <th>atemp</th>\n",
       "      <th>hum</th>\n",
       "      <th>windspeed</th>\n",
       "      <th>casual</th>\n",
       "      <th>registered</th>\n",
       "      <th>cnt</th>\n",
       "    </tr>\n",
       "  </thead>\n",
       "  <tbody>\n",
       "    <tr>\n",
       "      <th>count</th>\n",
       "      <td>731.000000</td>\n",
       "      <td>731.000000</td>\n",
       "      <td>731.000000</td>\n",
       "      <td>731.000000</td>\n",
       "      <td>731.000000</td>\n",
       "      <td>731.000000</td>\n",
       "      <td>731.000000</td>\n",
       "      <td>731.000000</td>\n",
       "      <td>731.000000</td>\n",
       "      <td>731.000000</td>\n",
       "      <td>731.000000</td>\n",
       "      <td>731.000000</td>\n",
       "      <td>731.000000</td>\n",
       "      <td>731.000000</td>\n",
       "      <td>731.000000</td>\n",
       "    </tr>\n",
       "    <tr>\n",
       "      <th>mean</th>\n",
       "      <td>366.000000</td>\n",
       "      <td>2.496580</td>\n",
       "      <td>0.500684</td>\n",
       "      <td>6.519836</td>\n",
       "      <td>0.028728</td>\n",
       "      <td>2.997264</td>\n",
       "      <td>0.683995</td>\n",
       "      <td>1.395349</td>\n",
       "      <td>0.495385</td>\n",
       "      <td>0.474354</td>\n",
       "      <td>0.627894</td>\n",
       "      <td>0.190486</td>\n",
       "      <td>848.176471</td>\n",
       "      <td>3656.172367</td>\n",
       "      <td>4504.348837</td>\n",
       "    </tr>\n",
       "    <tr>\n",
       "      <th>std</th>\n",
       "      <td>211.165812</td>\n",
       "      <td>1.110807</td>\n",
       "      <td>0.500342</td>\n",
       "      <td>3.451913</td>\n",
       "      <td>0.167155</td>\n",
       "      <td>2.004787</td>\n",
       "      <td>0.465233</td>\n",
       "      <td>0.544894</td>\n",
       "      <td>0.183051</td>\n",
       "      <td>0.162961</td>\n",
       "      <td>0.142429</td>\n",
       "      <td>0.077498</td>\n",
       "      <td>686.622488</td>\n",
       "      <td>1560.256377</td>\n",
       "      <td>1937.211452</td>\n",
       "    </tr>\n",
       "    <tr>\n",
       "      <th>min</th>\n",
       "      <td>1.000000</td>\n",
       "      <td>1.000000</td>\n",
       "      <td>0.000000</td>\n",
       "      <td>1.000000</td>\n",
       "      <td>0.000000</td>\n",
       "      <td>0.000000</td>\n",
       "      <td>0.000000</td>\n",
       "      <td>1.000000</td>\n",
       "      <td>0.059130</td>\n",
       "      <td>0.079070</td>\n",
       "      <td>0.000000</td>\n",
       "      <td>0.022392</td>\n",
       "      <td>2.000000</td>\n",
       "      <td>20.000000</td>\n",
       "      <td>22.000000</td>\n",
       "    </tr>\n",
       "    <tr>\n",
       "      <th>25%</th>\n",
       "      <td>183.500000</td>\n",
       "      <td>2.000000</td>\n",
       "      <td>0.000000</td>\n",
       "      <td>4.000000</td>\n",
       "      <td>0.000000</td>\n",
       "      <td>1.000000</td>\n",
       "      <td>0.000000</td>\n",
       "      <td>1.000000</td>\n",
       "      <td>0.337083</td>\n",
       "      <td>0.337842</td>\n",
       "      <td>0.520000</td>\n",
       "      <td>0.134950</td>\n",
       "      <td>315.500000</td>\n",
       "      <td>2497.000000</td>\n",
       "      <td>3152.000000</td>\n",
       "    </tr>\n",
       "    <tr>\n",
       "      <th>50%</th>\n",
       "      <td>366.000000</td>\n",
       "      <td>3.000000</td>\n",
       "      <td>1.000000</td>\n",
       "      <td>7.000000</td>\n",
       "      <td>0.000000</td>\n",
       "      <td>3.000000</td>\n",
       "      <td>1.000000</td>\n",
       "      <td>1.000000</td>\n",
       "      <td>0.498333</td>\n",
       "      <td>0.486733</td>\n",
       "      <td>0.626667</td>\n",
       "      <td>0.180975</td>\n",
       "      <td>713.000000</td>\n",
       "      <td>3662.000000</td>\n",
       "      <td>4548.000000</td>\n",
       "    </tr>\n",
       "    <tr>\n",
       "      <th>75%</th>\n",
       "      <td>548.500000</td>\n",
       "      <td>3.000000</td>\n",
       "      <td>1.000000</td>\n",
       "      <td>10.000000</td>\n",
       "      <td>0.000000</td>\n",
       "      <td>5.000000</td>\n",
       "      <td>1.000000</td>\n",
       "      <td>2.000000</td>\n",
       "      <td>0.655417</td>\n",
       "      <td>0.608602</td>\n",
       "      <td>0.730209</td>\n",
       "      <td>0.233214</td>\n",
       "      <td>1096.000000</td>\n",
       "      <td>4776.500000</td>\n",
       "      <td>5956.000000</td>\n",
       "    </tr>\n",
       "    <tr>\n",
       "      <th>max</th>\n",
       "      <td>731.000000</td>\n",
       "      <td>4.000000</td>\n",
       "      <td>1.000000</td>\n",
       "      <td>12.000000</td>\n",
       "      <td>1.000000</td>\n",
       "      <td>6.000000</td>\n",
       "      <td>1.000000</td>\n",
       "      <td>3.000000</td>\n",
       "      <td>0.861667</td>\n",
       "      <td>0.840896</td>\n",
       "      <td>0.972500</td>\n",
       "      <td>0.507463</td>\n",
       "      <td>3410.000000</td>\n",
       "      <td>6946.000000</td>\n",
       "      <td>8714.000000</td>\n",
       "    </tr>\n",
       "  </tbody>\n",
       "</table>\n",
       "</div>"
      ],
      "text/plain": [
       "          instant      season          yr        mnth     holiday     weekday  \\\n",
       "count  731.000000  731.000000  731.000000  731.000000  731.000000  731.000000   \n",
       "mean   366.000000    2.496580    0.500684    6.519836    0.028728    2.997264   \n",
       "std    211.165812    1.110807    0.500342    3.451913    0.167155    2.004787   \n",
       "min      1.000000    1.000000    0.000000    1.000000    0.000000    0.000000   \n",
       "25%    183.500000    2.000000    0.000000    4.000000    0.000000    1.000000   \n",
       "50%    366.000000    3.000000    1.000000    7.000000    0.000000    3.000000   \n",
       "75%    548.500000    3.000000    1.000000   10.000000    0.000000    5.000000   \n",
       "max    731.000000    4.000000    1.000000   12.000000    1.000000    6.000000   \n",
       "\n",
       "       workingday  weathersit        temp       atemp         hum   windspeed  \\\n",
       "count  731.000000  731.000000  731.000000  731.000000  731.000000  731.000000   \n",
       "mean     0.683995    1.395349    0.495385    0.474354    0.627894    0.190486   \n",
       "std      0.465233    0.544894    0.183051    0.162961    0.142429    0.077498   \n",
       "min      0.000000    1.000000    0.059130    0.079070    0.000000    0.022392   \n",
       "25%      0.000000    1.000000    0.337083    0.337842    0.520000    0.134950   \n",
       "50%      1.000000    1.000000    0.498333    0.486733    0.626667    0.180975   \n",
       "75%      1.000000    2.000000    0.655417    0.608602    0.730209    0.233214   \n",
       "max      1.000000    3.000000    0.861667    0.840896    0.972500    0.507463   \n",
       "\n",
       "            casual   registered          cnt  \n",
       "count   731.000000   731.000000   731.000000  \n",
       "mean    848.176471  3656.172367  4504.348837  \n",
       "std     686.622488  1560.256377  1937.211452  \n",
       "min       2.000000    20.000000    22.000000  \n",
       "25%     315.500000  2497.000000  3152.000000  \n",
       "50%     713.000000  3662.000000  4548.000000  \n",
       "75%    1096.000000  4776.500000  5956.000000  \n",
       "max    3410.000000  6946.000000  8714.000000  "
      ]
     },
     "execution_count": 14,
     "metadata": {},
     "output_type": "execute_result"
    }
   ],
   "source": [
    "#Explore data\n",
    "data_df.head(10)\n",
    "data_df.shape\n",
    "data_df.describe()"
   ]
  },
  {
   "cell_type": "markdown",
   "metadata": {},
   "source": [
    "## Feature Engineering and Variable Consolidation"
   ]
  },
  {
   "cell_type": "code",
   "execution_count": 33,
   "metadata": {},
   "outputs": [],
   "source": [
    "data_df.season = data_df.season.astype('category')\n",
    "data_df.yr = data_df.yr.astype('category')\n",
    "data_df.mnth = data_df.mnth.astype('category')\n",
    "data_df.holiday = data_df.holiday.astype('category')\n",
    "data_df.weekday = data_df.weekday.astype('category')\n",
    "data_df.workingday = data_df.workingday.astype('category')\n",
    "data_df.weathersit = data_df.weathersit.astype('category')\n",
    "data_df.dteday = pd.to_datetime(data_df['dteday'])\n",
    "data_df['day'] = data_df.dteday.dt.day"
   ]
  },
  {
   "cell_type": "markdown",
   "metadata": {},
   "source": [
    "## Exploratory Data Analysis"
   ]
  },
  {
   "cell_type": "code",
   "execution_count": 63,
   "metadata": {
    "scrolled": true
   },
   "outputs": [
    {
     "data": {
      "text/plain": [
       "(array([ 13.,  62.,  71.,  73., 122., 137.,  81.,  76.,  79.,  17.]),\n",
       " array([  22. ,  891.2, 1760.4, 2629.6, 3498.8, 4368. , 5237.2, 6106.4,\n",
       "        6975.6, 7844.8, 8714. ]),\n",
       " <a list of 10 Patch objects>)"
      ]
     },
     "execution_count": 63,
     "metadata": {},
     "output_type": "execute_result"
    },
    {
     "data": {
      "image/png": "[encoded data removed]",
      "text/plain": [
       "<Figure size 432x288 with 1 Axes>"
      ]
     },
     "metadata": {
      "needs_background": "light"
     },
     "output_type": "display_data"
    }
   ],
   "source": [
    "#Analysis on dependent variable - cnt\n",
    "%matplotlib inline\n",
    "plt.hist(data= data_df, x= 'cnt')"
   ]
  },
  {
   "cell_type": "code",
   "execution_count": 70,
   "metadata": {},
   "outputs": [
    {
     "data": {
      "text/plain": [
       "<matplotlib.axes._subplots.AxesSubplot at 0x9129061e48>"
      ]
     },
     "execution_count": 70,
     "metadata": {},
     "output_type": "execute_result"
    },
    {
     "data": {
      "image/png": "[encoded data removed]",
      "text/plain": [
       "<Figure size 432x288 with 1 Axes>"
      ]
     },
     "metadata": {
      "needs_background": "light"
     },
     "output_type": "display_data"
    }
   ],
   "source": [
    "#Analysis of Independent variables on dependent variable - cnt\n",
    "#Bike rental counts based on seasons\n",
    "sns.boxplot(x='season', y = 'cnt', data= data_df)"
   ]
  },
  {
   "cell_type": "code",
   "execution_count": 71,
   "metadata": {},
   "outputs": [
    {
     "data": {
      "text/plain": [
       "<matplotlib.axes._subplots.AxesSubplot at 0x9129428f28>"
      ]
     },
     "execution_count": 71,
     "metadata": {},
     "output_type": "execute_result"
    },
    {
     "data": {
      "image/png": "[encoded data removed]",
      "text/plain": [
       "<Figure size 432x288 with 1 Axes>"
      ]
     },
     "metadata": {
      "needs_background": "light"
     },
     "output_type": "display_data"
    }
   ],
   "source": [
    "#Bike rental counts based on Year\n",
    "sns.boxplot(x='yr', y= 'cnt', data=data_df)"
   ]
  },
  {
   "cell_type": "code",
   "execution_count": 72,
   "metadata": {},
   "outputs": [
    {
     "data": {
      "text/plain": [
       "<matplotlib.axes._subplots.AxesSubplot at 0x91291141d0>"
      ]
     },
     "execution_count": 72,
     "metadata": {},
     "output_type": "execute_result"
    },
    {
     "data": {
      "image/png": "[encoded data removed]",
      "text/plain": [
       "<Figure size 432x288 with 1 Axes>"
      ]
     },
     "metadata": {
      "needs_background": "light"
     },
     "output_type": "display_data"
    }
   ],
   "source": [
    "#Bike rental counts based on month\n",
    "sns.boxplot(x ='mnth', y ='cnt', data=data_df)"
   ]
  },
  {
   "cell_type": "code",
   "execution_count": 73,
   "metadata": {},
   "outputs": [
    {
     "data": {
      "text/plain": [
       "<matplotlib.axes._subplots.AxesSubplot at 0x9129070978>"
      ]
     },
     "execution_count": 73,
     "metadata": {},
     "output_type": "execute_result"
    },
    {
     "data": {
      "image/png": "[encoded data removed]",
      "text/plain": [
       "<Figure size 432x288 with 1 Axes>"
      ]
     },
     "metadata": {
      "needs_background": "light"
     },
     "output_type": "display_data"
    }
   ],
   "source": [
    "#Bike rental counts based on month\n",
    "sns.boxplot(x ='day', y ='cnt', data=data_df)"
   ]
  },
  {
   "cell_type": "code",
   "execution_count": 74,
   "metadata": {},
   "outputs": [
    {
     "data": {
      "text/plain": [
       "<matplotlib.axes._subplots.AxesSubplot at 0x912974a8d0>"
      ]
     },
     "execution_count": 74,
     "metadata": {},
     "output_type": "execute_result"
    },
    {
     "data": {
      "image/png": "[encoded data removed]",
      "text/plain": [
       "<Figure size 432x288 with 1 Axes>"
      ]
     },
     "metadata": {
      "needs_background": "light"
     },
     "output_type": "display_data"
    }
   ],
   "source": [
    "#Bike rental counts based on Holidays\n",
    "sns.boxplot(x ='holiday', y ='cnt', data=data_df)"
   ]
  },
  {
   "cell_type": "code",
   "execution_count": 75,
   "metadata": {},
   "outputs": [
    {
     "data": {
      "text/plain": [
       "<matplotlib.axes._subplots.AxesSubplot at 0x91297ac2b0>"
      ]
     },
     "execution_count": 75,
     "metadata": {},
     "output_type": "execute_result"
    },
    {
     "data": {
      "image/png": "[encoded data removed]",
      "text/plain": [
       "<Figure size 432x288 with 1 Axes>"
      ]
     },
     "metadata": {
      "needs_background": "light"
     },
     "output_type": "display_data"
    }
   ],
   "source": [
    "#Bike rental counts based on weekdays\n",
    "sns.boxplot(x ='weekday', y ='cnt', data=data_df)"
   ]
  },
  {
   "cell_type": "code",
   "execution_count": 76,
   "metadata": {},
   "outputs": [
    {
     "data": {
      "text/plain": [
       "<matplotlib.axes._subplots.AxesSubplot at 0x91298506a0>"
      ]
     },
     "execution_count": 76,
     "metadata": {},
     "output_type": "execute_result"
    },
    {
     "data": {
      "image/png": "[encoded data removed]",
      "text/plain": [
       "<Figure size 432x288 with 1 Axes>"
      ]
     },
     "metadata": {
      "needs_background": "light"
     },
     "output_type": "display_data"
    }
   ],
   "source": [
    "#Bike rental counts based on working days\n",
    "sns.boxplot(x ='workingday', y ='cnt', data=data_df)"
   ]
  },
  {
   "cell_type": "code",
   "execution_count": 77,
   "metadata": {},
   "outputs": [
    {
     "data": {
      "text/plain": [
       "<matplotlib.axes._subplots.AxesSubplot at 0x91298ce358>"
      ]
     },
     "execution_count": 77,
     "metadata": {},
     "output_type": "execute_result"
    },
    {
     "data": {
      "image/png": "[encoded data removed]",
      "text/plain": [
       "<Figure size 432x288 with 1 Axes>"
      ]
     },
     "metadata": {
      "needs_background": "light"
     },
     "output_type": "display_data"
    }
   ],
   "source": [
    "#Bike rental counts based on Weather conditions\n",
    "sns.boxplot(x ='weathersit', y ='cnt', data=data_df)"
   ]
  },
  {
   "cell_type": "code",
   "execution_count": 93,
   "metadata": {},
   "outputs": [
    {
     "name": "stderr",
     "output_type": "stream",
     "text": [
      "C:\\ProgramData\\Anaconda3\\lib\\site-packages\\scipy\\stats\\stats.py:1713: FutureWarning: Using a non-tuple sequence for multidimensional indexing is deprecated; use `arr[tuple(seq)]` instead of `arr[seq]`. In the future this will be interpreted as an array index, `arr[np.array(seq)]`, which will result either in an error or a different result.\n",
      "  return np.add.reduce(sorted[indexer] * weights, axis=axis) / sumval\n"
     ]
    },
    {
     "data": {
      "text/plain": [
       "<matplotlib.axes._subplots.AxesSubplot at 0x912de5c4e0>"
      ]
     },
     "execution_count": 93,
     "metadata": {},
     "output_type": "execute_result"
    },
    {
     "data": {
      "image/png": "[encoded data removed]",
      "text/plain": [
       "<Figure size 720x720 with 6 Axes>"
      ]
     },
     "metadata": {
      "needs_background": "light"
     },
     "output_type": "display_data"
    }
   ],
   "source": [
    "#Distribution of continuous variables\n",
    "f, axes = plt.subplots(3,2, figsize = (10,10))\n",
    "sns.distplot(data_df['temp'], color = \"blue\", ax=axes[0,0])\n",
    "sns.distplot(data_df['atemp'], color = \"orange\", ax = axes[0,1])\n",
    "sns.distplot(data_df['windspeed'], color =\"red\", ax= axes[1,0])\n",
    "sns.distplot(data_df['hum'], color = \"olive\", ax = axes[1,1])\n",
    "sns.distplot(data_df['casual'], color =\"green\", ax = axes[2,0])\n",
    "sns.distplot(data_df['registered'], color = \"purple\", ax = axes[2,1])"
   ]
  },
  {
   "cell_type": "markdown",
   "metadata": {},
   "source": [
    "## Missing Value Analysis"
   ]
  },
  {
   "cell_type": "code",
   "execution_count": 95,
   "metadata": {},
   "outputs": [],
   "source": [
    "Missing_val = data_df.isnull().sum()"
   ]
  },
  {
   "cell_type": "code",
   "execution_count": 96,
   "metadata": {},
   "outputs": [
    {
     "data": {
      "text/plain": [
       "instant       0\n",
       "dteday        0\n",
       "season        0\n",
       "yr            0\n",
       "mnth          0\n",
       "holiday       0\n",
       "weekday       0\n",
       "workingday    0\n",
       "weathersit    0\n",
       "temp          0\n",
       "atemp         0\n",
       "hum           0\n",
       "windspeed     0\n",
       "casual        0\n",
       "registered    0\n",
       "cnt           0\n",
       "day           0\n",
       "dtype: int64"
      ]
     },
     "execution_count": 96,
     "metadata": {},
     "output_type": "execute_result"
    }
   ],
   "source": [
    "#There are no missing values in our dataset\n",
    "Missing_val"
   ]
  },
  {
   "cell_type": "markdown",
   "metadata": {},
   "source": [
    "## Outlier Analysis"
   ]
  },
  {
   "cell_type": "code",
   "execution_count": 124,
   "metadata": {},
   "outputs": [
    {
     "data": {
      "text/plain": [
       "<matplotlib.axes._subplots.AxesSubplot at 0x9133ea7cf8>"
      ]
     },
     "execution_count": 124,
     "metadata": {},
     "output_type": "execute_result"
    },
    {
     "data": {
      "image/png": "[encoded data removed]",
      "text/plain": [
       "<Figure size 1080x504 with 3 Axes>"
      ]
     },
     "metadata": {
      "needs_background": "light"
     },
     "output_type": "display_data"
    }
   ],
   "source": [
    "f, axes = plt.subplots(1,3, figsize = (15,7))\n",
    "sns.boxplot(y = data_df[\"windspeed\"], ax = axes[0])\n",
    "sns.boxplot(y = data_df[\"casual\"], ax = axes[1])\n",
    "sns.boxplot(y = data_df[\"hum\"], ax = axes[2])"
   ]
  },
  {
   "cell_type": "markdown",
   "metadata": {},
   "source": [
    "## Feature Selection"
   ]
  },
  {
   "cell_type": "code",
   "execution_count": 126,
   "metadata": {},
   "outputs": [],
   "source": [
    "#Correlation Analysis\n",
    "num_cols = [\"temp\", \"atemp\", \"hum\", \"windspeed\", \"casual\", \"registered\"]"
   ]
  },
  {
   "cell_type": "code",
   "execution_count": 125,
   "metadata": {},
   "outputs": [
    {
     "data": {
      "text/plain": [
       "Index(['instant', 'dteday', 'season', 'yr', 'mnth', 'holiday', 'weekday',\n",
       "       'workingday', 'weathersit', 'temp', 'atemp', 'hum', 'windspeed',\n",
       "       'casual', 'registered', 'cnt', 'day'],\n",
       "      dtype='object')"
      ]
     },
     "execution_count": 125,
     "metadata": {},
     "output_type": "execute_result"
    }
   ],
   "source": [
    "data_df.columns"
   ]
  },
  {
   "cell_type": "code",
   "execution_count": 128,
   "metadata": {},
   "outputs": [],
   "source": [
    "num_data = data_df.loc[:,num_cols]"
   ]
  },
  {
   "cell_type": "code",
   "execution_count": 130,
   "metadata": {},
   "outputs": [],
   "source": [
    "corr_df = num_data.corr()"
   ]
  },
  {
   "cell_type": "code",
   "execution_count": 139,
   "metadata": {
    "collapsed": true
   },
   "outputs": [
    {
     "data": {
      "text/plain": [
       "<matplotlib.axes._subplots.AxesSubplot at 0x913627e898>"
      ]
     },
     "execution_count": 139,
     "metadata": {},
     "output_type": "execute_result"
    },
    {
     "data": {
      "image/png": "[encoded data removed]",
      "text/plain": [
       "<Figure size 504x360 with 2 Axes>"
      ]
     },
     "metadata": {
      "needs_background": "light"
     },
     "output_type": "display_data"
    }
   ],
   "source": [
    "f, axes = plt.subplots(figsize = (7,5))\n",
    "sns.heatmap(corr_df, mask = np.zeros_like(corr_df, dtype=np.bool),cmap=sns.diverging_palette(220, 10, as_cmap=True),square = True)"
   ]
  },
  {
   "cell_type": "code",
   "execution_count": 144,
   "metadata": {},
   "outputs": [],
   "source": [
    "#Dummy Fields\n",
    "catnames = [\"season\", \"yr\", \"mnth\",\"holiday\", \"weekday\",\"workingday\",\"weathersit\"]\n",
    "for i in catnames:\n",
    "    dummies = pd.get_dummies(data_df[i], prefix= i, drop_first= False)\n",
    "    data_df = pd.concat([data_df, dummies], axis= 1)"
   ]
  },
  {
   "cell_type": "code",
   "execution_count": 147,
   "metadata": {},
   "outputs": [],
   "source": [
    "#Drop the below fields as they are redundant and variables not giving enough information\n",
    "drop_fields = [\"instant\", \"dteday\",\"season\", \"yr\", \"mnth\", \"holiday\", \"weekday\", \"workingday\", \"weathersit\", \"atemp\", \"casual\", \"registered\"]\n",
    "data_df = data_df.drop(drop_fields, axis=1)"
   ]
  },
  {
   "cell_type": "code",
   "execution_count": 148,
   "metadata": {
    "collapsed": true
   },
   "outputs": [
    {
     "data": {
      "text/html": [
       "<div>\n",
       "<style scoped>\n",
       "    .dataframe tbody tr th:only-of-type {\n",
       "        vertical-align: middle;\n",
       "    }\n",
       "\n",
       "    .dataframe tbody tr th {\n",
       "        vertical-align: top;\n",
       "    }\n",
       "\n",
       "    .dataframe thead th {\n",
       "        text-align: right;\n",
       "    }\n",
       "</style>\n",
       "<table border=\"1\" class=\"dataframe\">\n",
       "  <thead>\n",
       "    <tr style=\"text-align: right;\">\n",
       "      <th></th>\n",
       "      <th>temp</th>\n",
       "      <th>hum</th>\n",
       "      <th>windspeed</th>\n",
       "      <th>cnt</th>\n",
       "      <th>day</th>\n",
       "      <th>season_1</th>\n",
       "      <th>season_2</th>\n",
       "      <th>season_3</th>\n",
       "      <th>season_4</th>\n",
       "      <th>yr_0</th>\n",
       "      <th>...</th>\n",
       "      <th>weekday_2</th>\n",
       "      <th>weekday_3</th>\n",
       "      <th>weekday_4</th>\n",
       "      <th>weekday_5</th>\n",
       "      <th>weekday_6</th>\n",
       "      <th>workingday_0</th>\n",
       "      <th>workingday_1</th>\n",
       "      <th>weathersit_1</th>\n",
       "      <th>weathersit_2</th>\n",
       "      <th>weathersit_3</th>\n",
       "    </tr>\n",
       "  </thead>\n",
       "  <tbody>\n",
       "    <tr>\n",
       "      <th>0</th>\n",
       "      <td>0.344167</td>\n",
       "      <td>0.805833</td>\n",
       "      <td>0.160446</td>\n",
       "      <td>985</td>\n",
       "      <td>1</td>\n",
       "      <td>1</td>\n",
       "      <td>0</td>\n",
       "      <td>0</td>\n",
       "      <td>0</td>\n",
       "      <td>1</td>\n",
       "      <td>...</td>\n",
       "      <td>0</td>\n",
       "      <td>0</td>\n",
       "      <td>0</td>\n",
       "      <td>0</td>\n",
       "      <td>1</td>\n",
       "      <td>1</td>\n",
       "      <td>0</td>\n",
       "      <td>0</td>\n",
       "      <td>1</td>\n",
       "      <td>0</td>\n",
       "    </tr>\n",
       "    <tr>\n",
       "      <th>1</th>\n",
       "      <td>0.363478</td>\n",
       "      <td>0.696087</td>\n",
       "      <td>0.248539</td>\n",
       "      <td>801</td>\n",
       "      <td>2</td>\n",
       "      <td>1</td>\n",
       "      <td>0</td>\n",
       "      <td>0</td>\n",
       "      <td>0</td>\n",
       "      <td>1</td>\n",
       "      <td>...</td>\n",
       "      <td>0</td>\n",
       "      <td>0</td>\n",
       "      <td>0</td>\n",
       "      <td>0</td>\n",
       "      <td>0</td>\n",
       "      <td>1</td>\n",
       "      <td>0</td>\n",
       "      <td>0</td>\n",
       "      <td>1</td>\n",
       "      <td>0</td>\n",
       "    </tr>\n",
       "    <tr>\n",
       "      <th>2</th>\n",
       "      <td>0.196364</td>\n",
       "      <td>0.437273</td>\n",
       "      <td>0.248309</td>\n",
       "      <td>1349</td>\n",
       "      <td>3</td>\n",
       "      <td>1</td>\n",
       "      <td>0</td>\n",
       "      <td>0</td>\n",
       "      <td>0</td>\n",
       "      <td>1</td>\n",
       "      <td>...</td>\n",
       "      <td>0</td>\n",
       "      <td>0</td>\n",
       "      <td>0</td>\n",
       "      <td>0</td>\n",
       "      <td>0</td>\n",
       "      <td>0</td>\n",
       "      <td>1</td>\n",
       "      <td>1</td>\n",
       "      <td>0</td>\n",
       "      <td>0</td>\n",
       "    </tr>\n",
       "    <tr>\n",
       "      <th>3</th>\n",
       "      <td>0.200000</td>\n",
       "      <td>0.590435</td>\n",
       "      <td>0.160296</td>\n",
       "      <td>1562</td>\n",
       "      <td>4</td>\n",
       "      <td>1</td>\n",
       "      <td>0</td>\n",
       "      <td>0</td>\n",
       "      <td>0</td>\n",
       "      <td>1</td>\n",
       "      <td>...</td>\n",
       "      <td>1</td>\n",
       "      <td>0</td>\n",
       "      <td>0</td>\n",
       "      <td>0</td>\n",
       "      <td>0</td>\n",
       "      <td>0</td>\n",
       "      <td>1</td>\n",
       "      <td>1</td>\n",
       "      <td>0</td>\n",
       "      <td>0</td>\n",
       "    </tr>\n",
       "    <tr>\n",
       "      <th>4</th>\n",
       "      <td>0.226957</td>\n",
       "      <td>0.436957</td>\n",
       "      <td>0.186900</td>\n",
       "      <td>1600</td>\n",
       "      <td>5</td>\n",
       "      <td>1</td>\n",
       "      <td>0</td>\n",
       "      <td>0</td>\n",
       "      <td>0</td>\n",
       "      <td>1</td>\n",
       "      <td>...</td>\n",
       "      <td>0</td>\n",
       "      <td>1</td>\n",
       "      <td>0</td>\n",
       "      <td>0</td>\n",
       "      <td>0</td>\n",
       "      <td>0</td>\n",
       "      <td>1</td>\n",
       "      <td>1</td>\n",
       "      <td>0</td>\n",
       "      <td>0</td>\n",
       "    </tr>\n",
       "  </tbody>\n",
       "</table>\n",
       "<p>5 rows × 37 columns</p>\n",
       "</div>"
      ],
      "text/plain": [
       "       temp       hum  windspeed   cnt  day  season_1  season_2  season_3  \\\n",
       "0  0.344167  0.805833   0.160446   985    1         1         0         0   \n",
       "1  0.363478  0.696087   0.248539   801    2         1         0         0   \n",
       "2  0.196364  0.437273   0.248309  1349    3         1         0         0   \n",
       "3  0.200000  0.590435   0.160296  1562    4         1         0         0   \n",
       "4  0.226957  0.436957   0.186900  1600    5         1         0         0   \n",
       "\n",
       "   season_4  yr_0      ...       weekday_2  weekday_3  weekday_4  weekday_5  \\\n",
       "0         0     1      ...               0          0          0          0   \n",
       "1         0     1      ...               0          0          0          0   \n",
       "2         0     1      ...               0          0          0          0   \n",
       "3         0     1      ...               1          0          0          0   \n",
       "4         0     1      ...               0          1          0          0   \n",
       "\n",
       "   weekday_6  workingday_0  workingday_1  weathersit_1  weathersit_2  \\\n",
       "0          1             1             0             0             1   \n",
       "1          0             1             0             0             1   \n",
       "2          0             0             1             1             0   \n",
       "3          0             0             1             1             0   \n",
       "4          0             0             1             1             0   \n",
       "\n",
       "   weathersit_3  \n",
       "0             0  \n",
       "1             0  \n",
       "2             0  \n",
       "3             0  \n",
       "4             0  \n",
       "\n",
       "[5 rows x 37 columns]"
      ]
     },
     "execution_count": 148,
     "metadata": {},
     "output_type": "execute_result"
    }
   ],
   "source": [
    "data_df.head()"
   ]
  },
  {
   "cell_type": "markdown",
   "metadata": {},
   "source": [
    "## Model Development"
   ]
  },
  {
   "cell_type": "code",
   "execution_count": 149,
   "metadata": {},
   "outputs": [],
   "source": [
    "#Data Splitting into train and test\n",
    "train, test = train_test_split(data_df, test_size = 0.2)"
   ]
  },
  {
   "cell_type": "code",
   "execution_count": 151,
   "metadata": {},
   "outputs": [
    {
     "data": {
      "text/plain": [
       "(584, 37)"
      ]
     },
     "execution_count": 151,
     "metadata": {},
     "output_type": "execute_result"
    }
   ],
   "source": [
    "train.shape"
   ]
  },
  {
   "cell_type": "code",
   "execution_count": 152,
   "metadata": {},
   "outputs": [
    {
     "data": {
      "text/plain": [
       "(147, 37)"
      ]
     },
     "execution_count": 152,
     "metadata": {},
     "output_type": "execute_result"
    }
   ],
   "source": [
    "test.shape"
   ]
  },
  {
   "cell_type": "markdown",
   "metadata": {},
   "source": [
    "### Linear Regression"
   ]
  },
  {
   "cell_type": "code",
   "execution_count": 153,
   "metadata": {},
   "outputs": [],
   "source": [
    "import statsmodels.api as sm"
   ]
  },
  {
   "cell_type": "code",
   "execution_count": 161,
   "metadata": {},
   "outputs": [],
   "source": [
    "model_lm = sm.OLS(train.iloc[:,3], train.iloc[:,train.columns != 'cnt']).fit()"
   ]
  },
  {
   "cell_type": "code",
   "execution_count": 163,
   "metadata": {
    "collapsed": true
   },
   "outputs": [
    {
     "data": {
      "text/html": [
       "<table class=\"simpletable\">\n",
       "<caption>OLS Regression Results</caption>\n",
       "<tr>\n",
       "  <th>Dep. Variable:</th>           <td>cnt</td>       <th>  R-squared:         </th> <td>   0.853</td> \n",
       "</tr>\n",
       "<tr>\n",
       "  <th>Model:</th>                   <td>OLS</td>       <th>  Adj. R-squared:    </th> <td>   0.846</td> \n",
       "</tr>\n",
       "<tr>\n",
       "  <th>Method:</th>             <td>Least Squares</td>  <th>  F-statistic:       </th> <td>   115.4</td> \n",
       "</tr>\n",
       "<tr>\n",
       "  <th>Date:</th>             <td>Mon, 14 Jan 2019</td> <th>  Prob (F-statistic):</th> <td>6.15e-211</td>\n",
       "</tr>\n",
       "<tr>\n",
       "  <th>Time:</th>                 <td>16:01:44</td>     <th>  Log-Likelihood:    </th> <td> -4689.0</td> \n",
       "</tr>\n",
       "<tr>\n",
       "  <th>No. Observations:</th>      <td>   584</td>      <th>  AIC:               </th> <td>   9436.</td> \n",
       "</tr>\n",
       "<tr>\n",
       "  <th>Df Residuals:</th>          <td>   555</td>      <th>  BIC:               </th> <td>   9563.</td> \n",
       "</tr>\n",
       "<tr>\n",
       "  <th>Df Model:</th>              <td>    28</td>      <th>                     </th>     <td> </td>    \n",
       "</tr>\n",
       "<tr>\n",
       "  <th>Covariance Type:</th>      <td>nonrobust</td>    <th>                     </th>     <td> </td>    \n",
       "</tr>\n",
       "</table>\n",
       "<table class=\"simpletable\">\n",
       "<tr>\n",
       "        <td></td>          <th>coef</th>     <th>std err</th>      <th>t</th>      <th>P>|t|</th>  <th>[0.025</th>    <th>0.975]</th>  \n",
       "</tr>\n",
       "<tr>\n",
       "  <th>temp</th>         <td> 4835.9024</td> <td>  454.530</td> <td>   10.639</td> <td> 0.000</td> <td> 3943.092</td> <td> 5728.713</td>\n",
       "</tr>\n",
       "<tr>\n",
       "  <th>hum</th>          <td>-1485.0890</td> <td>  323.831</td> <td>   -4.586</td> <td> 0.000</td> <td>-2121.173</td> <td> -849.005</td>\n",
       "</tr>\n",
       "<tr>\n",
       "  <th>windspeed</th>    <td>-2515.7875</td> <td>  434.374</td> <td>   -5.792</td> <td> 0.000</td> <td>-3369.005</td> <td>-1662.570</td>\n",
       "</tr>\n",
       "<tr>\n",
       "  <th>day</th>          <td>   -8.4797</td> <td>    3.672</td> <td>   -2.309</td> <td> 0.021</td> <td>  -15.692</td> <td>   -1.267</td>\n",
       "</tr>\n",
       "<tr>\n",
       "  <th>season_1</th>     <td> -582.4726</td> <td>  133.886</td> <td>   -4.351</td> <td> 0.000</td> <td> -845.457</td> <td> -319.488</td>\n",
       "</tr>\n",
       "<tr>\n",
       "  <th>season_2</th>     <td>  321.9315</td> <td>  132.345</td> <td>    2.433</td> <td> 0.015</td> <td>   61.973</td> <td>  581.890</td>\n",
       "</tr>\n",
       "<tr>\n",
       "  <th>season_3</th>     <td>  376.3653</td> <td>  136.016</td> <td>    2.767</td> <td> 0.006</td> <td>  109.197</td> <td>  643.534</td>\n",
       "</tr>\n",
       "<tr>\n",
       "  <th>season_4</th>     <td> 1023.6789</td> <td>  137.190</td> <td>    7.462</td> <td> 0.000</td> <td>  754.204</td> <td> 1293.154</td>\n",
       "</tr>\n",
       "<tr>\n",
       "  <th>yr_0</th>         <td> -421.8349</td> <td>   76.856</td> <td>   -5.489</td> <td> 0.000</td> <td> -572.800</td> <td> -270.870</td>\n",
       "</tr>\n",
       "<tr>\n",
       "  <th>yr_1</th>         <td> 1561.3380</td> <td>   76.061</td> <td>   20.527</td> <td> 0.000</td> <td> 1411.936</td> <td> 1710.740</td>\n",
       "</tr>\n",
       "<tr>\n",
       "  <th>mnth_1</th>       <td> -181.7379</td> <td>  191.646</td> <td>   -0.948</td> <td> 0.343</td> <td> -558.177</td> <td>  194.701</td>\n",
       "</tr>\n",
       "<tr>\n",
       "  <th>mnth_2</th>       <td>   40.2464</td> <td>  182.605</td> <td>    0.220</td> <td> 0.826</td> <td> -318.435</td> <td>  398.928</td>\n",
       "</tr>\n",
       "<tr>\n",
       "  <th>mnth_3</th>       <td>  318.8853</td> <td>  141.605</td> <td>    2.252</td> <td> 0.025</td> <td>   40.738</td> <td>  597.032</td>\n",
       "</tr>\n",
       "<tr>\n",
       "  <th>mnth_4</th>       <td>  236.2892</td> <td>  167.752</td> <td>    1.409</td> <td> 0.160</td> <td>  -93.217</td> <td>  565.796</td>\n",
       "</tr>\n",
       "<tr>\n",
       "  <th>mnth_5</th>       <td>  481.8357</td> <td>  179.725</td> <td>    2.681</td> <td> 0.008</td> <td>  128.812</td> <td>  834.860</td>\n",
       "</tr>\n",
       "<tr>\n",
       "  <th>mnth_6</th>       <td>  200.2928</td> <td>  167.984</td> <td>    1.192</td> <td> 0.234</td> <td> -129.670</td> <td>  530.255</td>\n",
       "</tr>\n",
       "<tr>\n",
       "  <th>mnth_7</th>       <td> -442.0363</td> <td>  201.298</td> <td>   -2.196</td> <td> 0.029</td> <td> -837.436</td> <td>  -46.637</td>\n",
       "</tr>\n",
       "<tr>\n",
       "  <th>mnth_8</th>       <td>    4.4338</td> <td>  188.347</td> <td>    0.024</td> <td> 0.981</td> <td> -365.527</td> <td>  374.395</td>\n",
       "</tr>\n",
       "<tr>\n",
       "  <th>mnth_9</th>       <td>  751.4725</td> <td>  147.031</td> <td>    5.111</td> <td> 0.000</td> <td>  462.668</td> <td> 1040.277</td>\n",
       "</tr>\n",
       "<tr>\n",
       "  <th>mnth_10</th>      <td>  246.0425</td> <td>  168.428</td> <td>    1.461</td> <td> 0.145</td> <td>  -84.792</td> <td>  576.877</td>\n",
       "</tr>\n",
       "<tr>\n",
       "  <th>mnth_11</th>      <td> -306.7394</td> <td>  178.586</td> <td>   -1.718</td> <td> 0.086</td> <td> -657.526</td> <td>   44.047</td>\n",
       "</tr>\n",
       "<tr>\n",
       "  <th>mnth_12</th>      <td> -209.4813</td> <td>  156.334</td> <td>   -1.340</td> <td> 0.181</td> <td> -516.560</td> <td>   97.597</td>\n",
       "</tr>\n",
       "<tr>\n",
       "  <th>holiday_0</th>    <td>  901.1191</td> <td>   94.066</td> <td>    9.580</td> <td> 0.000</td> <td>  716.350</td> <td> 1085.888</td>\n",
       "</tr>\n",
       "<tr>\n",
       "  <th>holiday_1</th>    <td>  238.3840</td> <td>  113.059</td> <td>    2.108</td> <td> 0.035</td> <td>   16.307</td> <td>  460.460</td>\n",
       "</tr>\n",
       "<tr>\n",
       "  <th>weekday_0</th>    <td> -109.7643</td> <td>   68.475</td> <td>   -1.603</td> <td> 0.110</td> <td> -244.267</td> <td>   24.738</td>\n",
       "</tr>\n",
       "<tr>\n",
       "  <th>weekday_1</th>    <td>   60.9461</td> <td>   78.493</td> <td>    0.776</td> <td> 0.438</td> <td>  -93.234</td> <td>  215.126</td>\n",
       "</tr>\n",
       "<tr>\n",
       "  <th>weekday_2</th>    <td>  110.5135</td> <td>   83.779</td> <td>    1.319</td> <td> 0.188</td> <td>  -54.049</td> <td>  275.076</td>\n",
       "</tr>\n",
       "<tr>\n",
       "  <th>weekday_3</th>    <td>  241.8168</td> <td>   83.293</td> <td>    2.903</td> <td> 0.004</td> <td>   78.209</td> <td>  405.424</td>\n",
       "</tr>\n",
       "<tr>\n",
       "  <th>weekday_4</th>    <td>  163.6703</td> <td>   81.408</td> <td>    2.010</td> <td> 0.045</td> <td>    3.764</td> <td>  323.577</td>\n",
       "</tr>\n",
       "<tr>\n",
       "  <th>weekday_5</th>    <td>  295.7924</td> <td>   81.632</td> <td>    3.624</td> <td> 0.000</td> <td>  135.448</td> <td>  456.137</td>\n",
       "</tr>\n",
       "<tr>\n",
       "  <th>weekday_6</th>    <td>  376.5283</td> <td>   68.359</td> <td>    5.508</td> <td> 0.000</td> <td>  242.255</td> <td>  510.802</td>\n",
       "</tr>\n",
       "<tr>\n",
       "  <th>workingday_0</th> <td>  505.1480</td> <td>   88.048</td> <td>    5.737</td> <td> 0.000</td> <td>  332.200</td> <td>  678.096</td>\n",
       "</tr>\n",
       "<tr>\n",
       "  <th>workingday_1</th> <td>  634.3551</td> <td>   63.693</td> <td>    9.960</td> <td> 0.000</td> <td>  509.247</td> <td>  759.464</td>\n",
       "</tr>\n",
       "<tr>\n",
       "  <th>weathersit_1</th> <td> 1279.7155</td> <td>   75.139</td> <td>   17.031</td> <td> 0.000</td> <td> 1132.125</td> <td> 1427.306</td>\n",
       "</tr>\n",
       "<tr>\n",
       "  <th>weathersit_2</th> <td>  793.8895</td> <td>   81.096</td> <td>    9.789</td> <td> 0.000</td> <td>  634.596</td> <td>  953.183</td>\n",
       "</tr>\n",
       "<tr>\n",
       "  <th>weathersit_3</th> <td> -934.1018</td> <td>  156.903</td> <td>   -5.953</td> <td> 0.000</td> <td>-1242.298</td> <td> -625.906</td>\n",
       "</tr>\n",
       "</table>\n",
       "<table class=\"simpletable\">\n",
       "<tr>\n",
       "  <th>Omnibus:</th>       <td>98.851</td> <th>  Durbin-Watson:     </th> <td>   2.020</td>\n",
       "</tr>\n",
       "<tr>\n",
       "  <th>Prob(Omnibus):</th> <td> 0.000</td> <th>  Jarque-Bera (JB):  </th> <td> 245.116</td>\n",
       "</tr>\n",
       "<tr>\n",
       "  <th>Skew:</th>          <td>-0.872</td> <th>  Prob(JB):          </th> <td>5.94e-54</td>\n",
       "</tr>\n",
       "<tr>\n",
       "  <th>Kurtosis:</th>      <td> 5.652</td> <th>  Cond. No.          </th> <td>1.21e+16</td>\n",
       "</tr>\n",
       "</table><br/><br/>Warnings:<br/>[1] Standard Errors assume that the covariance matrix of the errors is correctly specified.<br/>[2] The smallest eigenvalue is 1.32e-27. This might indicate that there are<br/>strong multicollinearity problems or that the design matrix is singular."
      ],
      "text/plain": [
       "<class 'statsmodels.iolib.summary.Summary'>\n",
       "\"\"\"\n",
       "                            OLS Regression Results                            \n",
       "==============================================================================\n",
       "Dep. Variable:                    cnt   R-squared:                       0.853\n",
       "Model:                            OLS   Adj. R-squared:                  0.846\n",
       "Method:                 Least Squares   F-statistic:                     115.4\n",
       "Date:                Mon, 14 Jan 2019   Prob (F-statistic):          6.15e-211\n",
       "Time:                        16:01:44   Log-Likelihood:                -4689.0\n",
       "No. Observations:                 584   AIC:                             9436.\n",
       "Df Residuals:                     555   BIC:                             9563.\n",
       "Df Model:                          28                                         \n",
       "Covariance Type:            nonrobust                                         \n",
       "================================================================================\n",
       "                   coef    std err          t      P>|t|      [0.025      0.975]\n",
       "--------------------------------------------------------------------------------\n",
       "temp          4835.9024    454.530     10.639      0.000    3943.092    5728.713\n",
       "hum          -1485.0890    323.831     -4.586      0.000   -2121.173    -849.005\n",
       "windspeed    -2515.7875    434.374     -5.792      0.000   -3369.005   -1662.570\n",
       "day             -8.4797      3.672     -2.309      0.021     -15.692      -1.267\n",
       "season_1      -582.4726    133.886     -4.351      0.000    -845.457    -319.488\n",
       "season_2       321.9315    132.345      2.433      0.015      61.973     581.890\n",
       "season_3       376.3653    136.016      2.767      0.006     109.197     643.534\n",
       "season_4      1023.6789    137.190      7.462      0.000     754.204    1293.154\n",
       "yr_0          -421.8349     76.856     -5.489      0.000    -572.800    -270.870\n",
       "yr_1          1561.3380     76.061     20.527      0.000    1411.936    1710.740\n",
       "mnth_1        -181.7379    191.646     -0.948      0.343    -558.177     194.701\n",
       "mnth_2          40.2464    182.605      0.220      0.826    -318.435     398.928\n",
       "mnth_3         318.8853    141.605      2.252      0.025      40.738     597.032\n",
       "mnth_4         236.2892    167.752      1.409      0.160     -93.217     565.796\n",
       "mnth_5         481.8357    179.725      2.681      0.008     128.812     834.860\n",
       "mnth_6         200.2928    167.984      1.192      0.234    -129.670     530.255\n",
       "mnth_7        -442.0363    201.298     -2.196      0.029    -837.436     -46.637\n",
       "mnth_8           4.4338    188.347      0.024      0.981    -365.527     374.395\n",
       "mnth_9         751.4725    147.031      5.111      0.000     462.668    1040.277\n",
       "mnth_10        246.0425    168.428      1.461      0.145     -84.792     576.877\n",
       "mnth_11       -306.7394    178.586     -1.718      0.086    -657.526      44.047\n",
       "mnth_12       -209.4813    156.334     -1.340      0.181    -516.560      97.597\n",
       "holiday_0      901.1191     94.066      9.580      0.000     716.350    1085.888\n",
       "holiday_1      238.3840    113.059      2.108      0.035      16.307     460.460\n",
       "weekday_0     -109.7643     68.475     -1.603      0.110    -244.267      24.738\n",
       "weekday_1       60.9461     78.493      0.776      0.438     -93.234     215.126\n",
       "weekday_2      110.5135     83.779      1.319      0.188     -54.049     275.076\n",
       "weekday_3      241.8168     83.293      2.903      0.004      78.209     405.424\n",
       "weekday_4      163.6703     81.408      2.010      0.045       3.764     323.577\n",
       "weekday_5      295.7924     81.632      3.624      0.000     135.448     456.137\n",
       "weekday_6      376.5283     68.359      5.508      0.000     242.255     510.802\n",
       "workingday_0   505.1480     88.048      5.737      0.000     332.200     678.096\n",
       "workingday_1   634.3551     63.693      9.960      0.000     509.247     759.464\n",
       "weathersit_1  1279.7155     75.139     17.031      0.000    1132.125    1427.306\n",
       "weathersit_2   793.8895     81.096      9.789      0.000     634.596     953.183\n",
       "weathersit_3  -934.1018    156.903     -5.953      0.000   -1242.298    -625.906\n",
       "==============================================================================\n",
       "Omnibus:                       98.851   Durbin-Watson:                   2.020\n",
       "Prob(Omnibus):                  0.000   Jarque-Bera (JB):              245.116\n",
       "Skew:                          -0.872   Prob(JB):                     5.94e-54\n",
       "Kurtosis:                       5.652   Cond. No.                     1.21e+16\n",
       "==============================================================================\n",
       "\n",
       "Warnings:\n",
       "[1] Standard Errors assume that the covariance matrix of the errors is correctly specified.\n",
       "[2] The smallest eigenvalue is 1.32e-27. This might indicate that there are\n",
       "strong multicollinearity problems or that the design matrix is singular.\n",
       "\"\"\""
      ]
     },
     "execution_count": 163,
     "metadata": {},
     "output_type": "execute_result"
    }
   ],
   "source": [
    "model_lm.summary()"
   ]
  },
  {
   "cell_type": "code",
   "execution_count": 171,
   "metadata": {},
   "outputs": [],
   "source": [
    "#Predict the model\n",
    "predict_lm = model_lm.predict(test.iloc[:,test.columns != 'cnt'])"
   ]
  },
  {
   "cell_type": "code",
   "execution_count": 178,
   "metadata": {},
   "outputs": [],
   "source": [
    "def mape(y_actual, y_pred):\n",
    "    mape = np.mean(np.abs(y_actual - y_pred)/y_actual)*100\n",
    "    return mape"
   ]
  },
  {
   "cell_type": "code",
   "execution_count": 186,
   "metadata": {},
   "outputs": [
    {
     "data": {
      "text/plain": [
       "17.864234289713636"
      ]
     },
     "execution_count": 186,
     "metadata": {},
     "output_type": "execute_result"
    }
   ],
   "source": [
    "mape(test.iloc[:,3], predict_lm)"
   ]
  },
  {
   "cell_type": "code",
   "execution_count": 187,
   "metadata": {},
   "outputs": [],
   "source": [
    "#Error rate : 17.86 and Accuracy : 82.14"
   ]
  },
  {
   "cell_type": "markdown",
   "metadata": {},
   "source": [
    "### Decision Tree"
   ]
  },
  {
   "cell_type": "code",
   "execution_count": 183,
   "metadata": {},
   "outputs": [],
   "source": [
    "#Decision Tree regression\n",
    "model_dt = DecisionTreeRegressor(max_depth= 2).fit(train.iloc[:,train.columns != 'cnt'], train.iloc[:,3])"
   ]
  },
  {
   "cell_type": "code",
   "execution_count": 184,
   "metadata": {},
   "outputs": [],
   "source": [
    "#Predict on Test data\n",
    "predict_dt = model_dt.predict(test.iloc[:,test.columns != 'cnt'])"
   ]
  },
  {
   "cell_type": "code",
   "execution_count": 185,
   "metadata": {},
   "outputs": [
    {
     "data": {
      "text/plain": [
       "24.559021452544382"
      ]
     },
     "execution_count": 185,
     "metadata": {},
     "output_type": "execute_result"
    }
   ],
   "source": [
    "mape(test.iloc[:,3], predict_dt)"
   ]
  },
  {
   "cell_type": "code",
   "execution_count": null,
   "metadata": {},
   "outputs": [],
   "source": [
    "#Error Rate : 24.55 and Accuracy : 75.45 %"
   ]
  },
  {
   "cell_type": "markdown",
   "metadata": {},
   "source": [
    "### Random Forest"
   ]
  },
  {
   "cell_type": "code",
   "execution_count": 189,
   "metadata": {},
   "outputs": [],
   "source": [
    "#Random Forest \n",
    "model_rf = RandomForestClassifier(n_estimators=100).fit(train.iloc[:,train.columns != 'cnt'], train.iloc[:,3])"
   ]
  },
  {
   "cell_type": "code",
   "execution_count": 190,
   "metadata": {},
   "outputs": [],
   "source": [
    "predict_rf = model_rf.predict(test.iloc[:,test.columns != 'cnt'])"
   ]
  },
  {
   "cell_type": "code",
   "execution_count": 191,
   "metadata": {},
   "outputs": [
    {
     "data": {
      "text/plain": [
       "24.511537456953462"
      ]
     },
     "execution_count": 191,
     "metadata": {},
     "output_type": "execute_result"
    }
   ],
   "source": [
    "mape(test.iloc[:,3], predict_rf)"
   ]
  },
  {
   "cell_type": "code",
   "execution_count": null,
   "metadata": {},
   "outputs": [],
   "source": [
    "#Error Rate : 24.51 and Accuracy : 75.49 %"
   ]
  },
  {
   "cell_type": "markdown",
   "metadata": {},
   "source": [
    "# Conclusion"
   ]
  },
  {
   "cell_type": "markdown",
   "metadata": {},
   "source": [
    "Linear Regression model gives better prediction result of 82.14% accuracy and MAPE result of 17.86%. The model can further be improved by applying regression fitting models and regularization methods."
   ]
  }
 ],
 "metadata": {
  "kernelspec": {
   "display_name": "Python 3",
   "language": "python",
   "name": "python3"
  },
  "language_info": {
   "codemirror_mode": {
    "name": "ipython",
    "version": 3
   },
   "file_extension": ".py",
   "mimetype": "text/x-python",
   "name": "python",
   "nbconvert_exporter": "python",
   "pygments_lexer": "ipython3",
   "version": "3.7.0"
  }
 },
 "nbformat": 4,
 "nbformat_minor": 2
}
